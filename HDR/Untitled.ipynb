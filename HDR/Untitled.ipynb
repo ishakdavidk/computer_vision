{
 "cells": [
  {
   "cell_type": "code",
   "execution_count": 1,
   "metadata": {},
   "outputs": [
    {
     "data": {
      "text/plain": [
       "True"
      ]
     },
     "execution_count": 1,
     "metadata": {},
     "output_type": "execute_result"
    }
   ],
   "source": [
    "import cv2\n",
    "import numpy as np\n",
    "\n",
    "# Loading exposure images into a list\n",
    "img_fn = [\"img0.jpg\", \"img1.jpg\", \"img2.jpg\", \"img3.jpg\"]\n",
    "img_list = [cv2.imread(fn) for fn in img_fn]\n",
    "exposure_times = np.array([1/371, 1/758, 1/416, 1/783], dtype=np.float32)\n",
    "\n",
    "# Align input images\n",
    "alignMTB = cv2.createAlignMTB()\n",
    "alignMTB.process(img_list, img_list)\n",
    "\n",
    "# Estimate camera response function (CRF)\n",
    "cal_debvec = cv2.createCalibrateDebevec()\n",
    "crf_debvec = cal_debvec.process(img_list, times=exposure_times)\n",
    "cal_robertson = cv2.createCalibrateRobertson()\n",
    "crf_robertson = cal_robertson.process(img_list, times=exposure_times)\n",
    "\n",
    "# Merge exposures to HDR image\n",
    "merge_debvec = cv2.createMergeDebevec()\n",
    "hdr_debvec = merge_debvec.process(img_list, times=exposure_times.copy(), response=crf_debvec.copy())\n",
    "merge_robertson = cv2.createMergeRobertson()\n",
    "hdr_robertson = merge_robertson.process(img_list, times=exposure_times.copy(), response=crf_robertson.copy())\n",
    "\n",
    "# Tonemap HDR image\n",
    "tonemap1 = cv2.createTonemapDurand(1.5,4,1.0,1,1)\n",
    "res_debvec = tonemap1.process(hdr_debvec.copy())\n",
    "tonemap2 = cv2.createTonemapDurand(1.5,4,1.0,1,1)\n",
    "res_robertson = tonemap2.process(hdr_robertson.copy())\n",
    "\n",
    "# Exposure fusion using Mertens\n",
    "merge_mertens = cv2.createMergeMertens()\n",
    "res_mertens = merge_mertens.process(img_list)\n",
    "\n",
    "# Convert datatype to 8-bit\n",
    "res_debvec_8bit = np.clip(res_debvec*255, 0, 255).astype('uint8')\n",
    "res_robertson_8bit = np.clip(res_robertson*255, 0, 255).astype('uint8')\n",
    "res_mertens_8bit = np.clip(res_mertens*255, 0, 255).astype('uint8')\n",
    "\n",
    "# save\n",
    "cv2.imwrite(\"ldr_debvec.jpg\", res_debvec_8bit)\n",
    "cv2.imwrite(\"ldr_robertson.jpg\", res_robertson_8bit)\n",
    "cv2.imwrite(\"fusion_mertens.jpg\", res_mertens_8bit)"
   ]
  },
  {
   "cell_type": "code",
   "execution_count": null,
   "metadata": {},
   "outputs": [],
   "source": []
  }
 ],
 "metadata": {
  "kernelspec": {
   "display_name": "Python 3",
   "language": "python",
   "name": "python3"
  },
  "language_info": {
   "codemirror_mode": {
    "name": "ipython",
    "version": 3
   },
   "file_extension": ".py",
   "mimetype": "text/x-python",
   "name": "python",
   "nbconvert_exporter": "python",
   "pygments_lexer": "ipython3",
   "version": "3.7.2"
  }
 },
 "nbformat": 4,
 "nbformat_minor": 2
}
